{
 "cells": [
  {
   "cell_type": "markdown",
   "metadata": {},
   "source": [
    "Importing libraries"
   ]
  },
  {
   "cell_type": "code",
   "execution_count": 11,
   "metadata": {},
   "outputs": [],
   "source": [
    "## Import required libraries\n",
    "import pandas as pd\n",
    "import os\n",
    "from sklearn.model_selection import train_test_split\n",
    "import torch\n",
    "from torch import nn\n",
    "from transformers import BertTokenizer, BertModel, AdamW\n",
    "import warnings\n",
    "warnings.filterwarnings('ignore')"
   ]
  },
  {
   "cell_type": "markdown",
   "metadata": {},
   "source": [
    "Storing model weights"
   ]
  },
  {
   "cell_type": "code",
   "execution_count": 12,
   "metadata": {},
   "outputs": [],
   "source": [
    "## Make a directory for storing model weights\n",
    "output_dir=r'C:\\Users\\DELL\\Documents\\FORSAE\\transformer-model-weights'\n",
    "os.makedirs(output_dir,exist_ok=True)"
   ]
  },
  {
   "cell_type": "markdown",
   "metadata": {},
   "source": [
    "Data Preprocessing"
   ]
  },
  {
   "cell_type": "code",
   "execution_count": 13,
   "metadata": {},
   "outputs": [
    {
     "data": {
      "text/plain": [
       "(114, 2)"
      ]
     },
     "execution_count": 13,
     "metadata": {},
     "output_type": "execute_result"
    }
   ],
   "source": [
    "## Load target dataset\n",
    "def load_data(df):\n",
    "    df=pd.read_csv(df)\n",
    "    return df\n",
    "data_path=r'C:\\Users\\DELL\\Documents\\FORSAE\\taylor_data.csv'\n",
    "data=load_data(data_path)\n",
    "data.shape"
   ]
  },
  {
   "cell_type": "markdown",
   "metadata": {},
   "source": [
    "Loading Tokenizer and Transformer Model"
   ]
  },
  {
   "cell_type": "code",
   "execution_count": 14,
   "metadata": {},
   "outputs": [],
   "source": [
    "device = torch.device('cuda' if torch.cuda.is_available() else 'cpu')\n",
    "tokenizer = BertTokenizer.from_pretrained('bert-base-uncased')## Load BERT Tokenizer\n",
    "bert_model = BertModel.from_pretrained('bert-base-uncased')## Load BERT Model"
   ]
  },
  {
   "cell_type": "code",
   "execution_count": 15,
   "metadata": {},
   "outputs": [
    {
     "data": {
      "text/html": [
       "<div>\n",
       "<style scoped>\n",
       "    .dataframe tbody tr th:only-of-type {\n",
       "        vertical-align: middle;\n",
       "    }\n",
       "\n",
       "    .dataframe tbody tr th {\n",
       "        vertical-align: top;\n",
       "    }\n",
       "\n",
       "    .dataframe thead th {\n",
       "        text-align: right;\n",
       "    }\n",
       "</style>\n",
       "<table border=\"1\" class=\"dataframe\">\n",
       "  <thead>\n",
       "    <tr style=\"text-align: right;\">\n",
       "      <th></th>\n",
       "      <th>Functions</th>\n",
       "      <th>Taylor Series</th>\n",
       "    </tr>\n",
       "  </thead>\n",
       "  <tbody>\n",
       "    <tr>\n",
       "      <th>0</th>\n",
       "      <td>-9*x**3 + 5*x**2 + 2*x - 5</td>\n",
       "      <td>-9*x**3 + 5*x**2 + 2*x - 5</td>\n",
       "    </tr>\n",
       "    <tr>\n",
       "      <th>1</th>\n",
       "      <td>-2*x**3 + x**2 - x + 8</td>\n",
       "      <td>-2*x**3 + x**2 - x + 8</td>\n",
       "    </tr>\n",
       "    <tr>\n",
       "      <th>2</th>\n",
       "      <td>9*x**3 - 6*x**2 - 6*x + 5</td>\n",
       "      <td>9*x**3 - 6*x**2 - 6*x + 5</td>\n",
       "    </tr>\n",
       "    <tr>\n",
       "      <th>3</th>\n",
       "      <td>3*x**3 - 4*x**2 - 7*x + 7</td>\n",
       "      <td>3*x**3 - 4*x**2 - 7*x + 7</td>\n",
       "    </tr>\n",
       "    <tr>\n",
       "      <th>4</th>\n",
       "      <td>-9*x**3 - x**2 - 8*x + 9</td>\n",
       "      <td>-9*x**3 - x**2 - 8*x + 9</td>\n",
       "    </tr>\n",
       "  </tbody>\n",
       "</table>\n",
       "</div>"
      ],
      "text/plain": [
       "                    Functions               Taylor Series\n",
       "0  -9*x**3 + 5*x**2 + 2*x - 5  -9*x**3 + 5*x**2 + 2*x - 5\n",
       "1      -2*x**3 + x**2 - x + 8      -2*x**3 + x**2 - x + 8\n",
       "2   9*x**3 - 6*x**2 - 6*x + 5   9*x**3 - 6*x**2 - 6*x + 5\n",
       "3   3*x**3 - 4*x**2 - 7*x + 7   3*x**3 - 4*x**2 - 7*x + 7\n",
       "4    -9*x**3 - x**2 - 8*x + 9    -9*x**3 - x**2 - 8*x + 9"
      ]
     },
     "execution_count": 15,
     "metadata": {},
     "output_type": "execute_result"
    }
   ],
   "source": [
    "data.head()"
   ]
  },
  {
   "cell_type": "markdown",
   "metadata": {},
   "source": [
    "Apply Tokenization"
   ]
  },
  {
   "cell_type": "code",
   "execution_count": 16,
   "metadata": {
    "editable": false,
    "execution": {
     "execution_failed": "2025-03-17T07:43:47.009Z",
     "iopub.execute_input": "2025-03-17T06:50:52.252402Z",
     "iopub.status.busy": "2025-03-17T06:50:52.251984Z"
    },
    "id": "lb7EzENLVdcc",
    "outputId": "9806d6d3-aefd-408b-d84e-ffc365a41b3b",
    "trusted": true
   },
   "outputs": [
    {
     "name": "stdout",
     "output_type": "stream",
     "text": [
      "(114, 2)\n"
     ]
    }
   ],
   "source": [
    "## Tokenization\n",
    "def tokenize(target_data):\n",
    "  target_encodings=tokenizer(\n",
    "      target_data,\n",
    "      max_length=128,\n",
    "      padding='max_length',\n",
    "      truncation=True,\n",
    "      return_tensors='pt'\n",
    "  )\n",
    "  return target_encodings\n",
    "\n",
    "## Apply tokenization and get data containing features and targets\n",
    "feats=[]## Features list\n",
    "targets=[]## Targets list\n",
    "training_data=pd.DataFrame()## DataFrame for features and targets\n",
    "for i in range(0,len(data['Functions'])):\n",
    "     inp_encoded=tokenize(data['Functions'][i])## Tokenize features\n",
    "     out_encoded=tokenize(data['Taylor Series'][i])## Tokenize targets\n",
    "     #target=target.flatten()\n",
    "     feats.append(inp_encoded)\n",
    "     targets.append(out_encoded)\n",
    "training_data['Functions']=feats\n",
    "training_data['Taylor Expansion']=targets\n",
    "print(training_data.shape)"
   ]
  },
  {
   "cell_type": "markdown",
   "metadata": {},
   "source": [
    "Splitting the data"
   ]
  },
  {
   "cell_type": "code",
   "execution_count": 17,
   "metadata": {},
   "outputs": [],
   "source": [
    "train_data,val_data=train_test_split(training_data,test_size=0.2,random_state=42)"
   ]
  },
  {
   "cell_type": "code",
   "execution_count": 18,
   "metadata": {},
   "outputs": [
    {
     "name": "stdout",
     "output_type": "stream",
     "text": [
      "<class 'transformers.tokenization_utils_base.BatchEncoding'>\n",
      "<class 'transformers.tokenization_utils_base.BatchEncoding'>\n",
      "<class 'transformers.tokenization_utils_base.BatchEncoding'>\n",
      "<class 'transformers.tokenization_utils_base.BatchEncoding'>\n"
     ]
    }
   ],
   "source": [
    "## Convert features and targets into separate lists for training\n",
    "train_inputs = list(train_data['Functions'])## Training data features\n",
    "train_outputs = list(train_data['Taylor Expansion'])## Training data targets\n",
    "val_inputs = list(val_data['Functions'])## Validation data features\n",
    "val_outputs = list(val_data['Taylor Expansion'])## Validation data targets\n",
    "print(type(train_inputs[0]))\n",
    "print(type(val_inputs[0]))\n",
    "print(type(train_outputs[0]))\n",
    "print(type(val_outputs[0]))"
   ]
  },
  {
   "cell_type": "markdown",
   "metadata": {},
   "source": [
    "Model Training and Evaluation"
   ]
  },
  {
   "cell_type": "code",
   "execution_count": 19,
   "metadata": {
    "editable": false,
    "execution": {
     "execution_failed": "2025-03-17T07:43:47.010Z"
    },
    "id": "i4lh72MyyF6-",
    "outputId": "8acab45f-119c-48b7-e775-37fe94b0619a",
    "trusted": true
   },
   "outputs": [
    {
     "name": "stdout",
     "output_type": "stream",
     "text": [
      "Epoch :0----> Train_loss :3.33124\n",
      "              Validation_loss :2.48206\n",
      "Epoch :1----> Train_loss :2.55988\n",
      "              Validation_loss :2.43808\n",
      "Epoch :2----> Train_loss :2.51557\n",
      "              Validation_loss :2.42804\n",
      "Epoch :3----> Train_loss :2.49076\n",
      "              Validation_loss :2.43271\n",
      "Epoch :4----> Train_loss :2.48215\n",
      "              Validation_loss :2.42501\n",
      "Epoch :5----> Train_loss :2.47550\n",
      "              Validation_loss :2.41710\n",
      "Epoch :6----> Train_loss :2.47679\n",
      "              Validation_loss :2.41105\n",
      "Epoch :7----> Train_loss :2.47106\n",
      "              Validation_loss :2.40776\n",
      "Epoch :8----> Train_loss :2.46706\n",
      "              Validation_loss :2.40274\n",
      "Epoch :9----> Train_loss :2.47001\n",
      "              Validation_loss :2.40652\n",
      "Epoch :10----> Train_loss :2.46412\n",
      "              Validation_loss :2.39916\n",
      "Epoch :11----> Train_loss :2.45885\n",
      "              Validation_loss :2.40131\n",
      "Epoch :12----> Train_loss :2.45295\n",
      "              Validation_loss :2.40006\n",
      "Epoch :13----> Train_loss :2.46556\n",
      "              Validation_loss :2.39934\n",
      "Epoch :14----> Train_loss :2.45540\n",
      "              Validation_loss :2.39363\n",
      "Epoch :15----> Train_loss :2.45198\n",
      "              Validation_loss :2.38982\n",
      "Epoch :16----> Train_loss :2.44937\n",
      "              Validation_loss :2.38970\n",
      "Epoch :17----> Train_loss :2.45207\n",
      "              Validation_loss :2.38605\n",
      "Epoch :18----> Train_loss :2.44932\n",
      "              Validation_loss :2.39175\n",
      "Epoch :19----> Train_loss :2.44928\n",
      "              Validation_loss :2.38595\n",
      "Epoch :20----> Train_loss :2.44767\n",
      "              Validation_loss :2.38542\n",
      "Epoch :21----> Train_loss :2.44472\n",
      "              Validation_loss :2.38629\n",
      "Epoch :22----> Train_loss :2.44391\n",
      "              Validation_loss :2.38142\n",
      "Epoch :23----> Train_loss :2.44203\n",
      "              Validation_loss :2.38216\n",
      "Epoch :24----> Train_loss :2.44572\n",
      "              Validation_loss :2.38009\n",
      "Epoch :25----> Train_loss :2.44412\n",
      "              Validation_loss :2.37665\n",
      "Epoch :26----> Train_loss :2.43929\n",
      "              Validation_loss :2.37635\n",
      "Epoch :27----> Train_loss :2.44134\n",
      "              Validation_loss :2.37733\n",
      "Epoch :28----> Train_loss :2.43766\n",
      "              Validation_loss :2.37856\n",
      "Epoch :29----> Train_loss :2.43587\n",
      "              Validation_loss :2.38180\n",
      "Epoch :30----> Train_loss :2.43267\n",
      "              Validation_loss :2.37916\n",
      "Epoch :31----> Train_loss :2.43603\n",
      "              Validation_loss :2.37513\n",
      "Epoch :32----> Train_loss :2.43354\n",
      "              Validation_loss :2.37454\n",
      "Epoch :33----> Train_loss :2.43452\n",
      "              Validation_loss :2.37604\n",
      "Epoch :34----> Train_loss :2.43545\n",
      "              Validation_loss :2.37570\n",
      "Epoch :35----> Train_loss :2.43216\n",
      "              Validation_loss :2.37762\n",
      "Epoch :36----> Train_loss :2.42831\n",
      "              Validation_loss :2.37585\n",
      "Epoch :37----> Train_loss :2.43189\n",
      "              Validation_loss :2.37859\n",
      "Epoch :38----> Train_loss :2.43133\n",
      "              Validation_loss :2.37747\n",
      "Epoch :39----> Train_loss :2.43084\n",
      "              Validation_loss :2.37969\n",
      "Epoch :40----> Train_loss :2.42683\n",
      "              Validation_loss :2.37900\n",
      "Epoch :41----> Train_loss :2.42862\n",
      "              Validation_loss :2.37949\n",
      "Epoch :42----> Train_loss :2.42563\n",
      "              Validation_loss :2.37913\n",
      "Epoch :43----> Train_loss :2.42620\n",
      "              Validation_loss :2.37900\n",
      "Epoch :44----> Train_loss :2.42723\n",
      "              Validation_loss :2.37363\n",
      "Epoch :45----> Train_loss :2.42731\n",
      "              Validation_loss :2.37555\n",
      "Epoch :46----> Train_loss :2.42476\n",
      "              Validation_loss :2.37953\n",
      "Epoch :47----> Train_loss :2.42206\n",
      "              Validation_loss :2.37807\n",
      "Epoch :48----> Train_loss :2.42452\n",
      "              Validation_loss :2.37266\n",
      "Epoch :49----> Train_loss :2.42302\n",
      "              Validation_loss :2.38131\n"
     ]
    }
   ],
   "source": [
    "class TranformerModel(nn.Module):\n",
    "    def __init__(self,bert_model,vocab_size):\n",
    "        super(TranformerModel,self).__init__()\n",
    "        self.bert=bert_model\n",
    "        self.decoder=nn.Linear(768,vocab_size)\n",
    "        \n",
    "    def forward(self,input_ids,attention_mask):\n",
    "        outputs=self.bert(input_ids=input_ids,attention_mask=attention_mask)\n",
    "        last_hidden_state=outputs.last_hidden_state\n",
    "        logits=self.decoder(last_hidden_state)\n",
    "        return logits\n",
    "    \n",
    "model=TranformerModel(bert_model,tokenizer.vocab_size)\n",
    "optimizer=AdamW(model.parameters(),lr=7e-3)\n",
    "criterion=nn.CrossEntropyLoss(ignore_index=tokenizer.pad_token_id)\n",
    "\n",
    "epochs=50\n",
    "model.to(device)\n",
    "\n",
    "for epoch in range(0,epochs):\n",
    "    model.train()\n",
    "    total_loss=0\n",
    "    for i in range(0,len(train_inputs)):\n",
    "        train_input_ids=train_inputs[i]['input_ids'].to(device)\n",
    "        train_attention_mask = train_inputs[i]['attention_mask'].to(device)\n",
    "        train_output_ids = train_outputs[i]['input_ids'].to(device)\n",
    "        \n",
    "        optimizer.zero_grad()\n",
    "        logits=model(train_input_ids,train_attention_mask)\n",
    "        loss=criterion(logits.view(-1,logits.size(-1)),train_output_ids.view(-1))\n",
    "        loss.backward()\n",
    "        optimizer.step()\n",
    "        total_loss+=loss.item()\n",
    "    \n",
    "    avg_loss=total_loss/len(train_inputs)\n",
    "    print(f'Epoch :{epoch}----> Train_loss :{avg_loss:.5f}')\n",
    "    if epoch%20==0:\n",
    "        weights_path=os.path.join(output_dir,f'weights_step_{epoch+1}.pth')\n",
    "        torch.save(model.state_dict(),weights_path)\n",
    "    \n",
    "    model.eval()\n",
    "    val_loss=0\n",
    "    with torch.no_grad():\n",
    "        for i in range(0,len(val_inputs)):\n",
    "            val_input_ids=val_inputs[i]['input_ids'].to(device)\n",
    "            val_attention_mask = val_inputs[i]['attention_mask'].to(device)\n",
    "            val_output_ids = val_outputs[i]['input_ids'].to(device)\n",
    "            \n",
    "            logits=model(val_input_ids,val_attention_mask)\n",
    "            loss=criterion(logits.view(-1,logits.size(-1)),val_output_ids.view(-1))\n",
    "            val_loss+=loss.item()\n",
    "            \n",
    "        avg_val_loss=val_loss/len(val_inputs)\n",
    "        print(f'              Validation_loss :{avg_val_loss:.5f}')"
   ]
  }
 ],
 "metadata": {
  "accelerator": "GPU",
  "colab": {
   "gpuType": "T4",
   "provenance": []
  },
  "kaggle": {
   "accelerator": "tpu1vmV38",
   "dataSources": [
    {
     "datasetId": 6885392,
     "sourceId": 11052016,
     "sourceType": "datasetVersion"
    },
    {
     "datasetId": 6888231,
     "sourceId": 11056160,
     "sourceType": "datasetVersion"
    }
   ],
   "dockerImageVersionId": 30918,
   "isGpuEnabled": false,
   "isInternetEnabled": true,
   "language": "python",
   "sourceType": "notebook"
  },
  "kernelspec": {
   "display_name": "Python 3",
   "language": "python",
   "name": "python3"
  },
  "language_info": {
   "codemirror_mode": {
    "name": "ipython",
    "version": 3
   },
   "file_extension": ".py",
   "mimetype": "text/x-python",
   "name": "python",
   "nbconvert_exporter": "python",
   "pygments_lexer": "ipython3",
   "version": "3.12.3"
  }
 },
 "nbformat": 4,
 "nbformat_minor": 4
}
